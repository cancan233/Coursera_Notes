{
 "cells": [
  {
   "source": [
    "# Week 5 Dynamic Programming\n",
    "\n",
    "## Change problem\n",
    "**Input:** An integer *money* and positive integers *coin_1*, ..., *coin_d*.\n",
    "\n",
    "**Output:** The minimum number of coins with denominations *coin_1*, ..., *coin_d* that changes *money*.\n",
    "\n",
    "However, greedy algorithm might fail to return the minimum number of changes needed. For example, 40 = 25 + 10 + 5 while the true answer is 40 = 20 + 20.\n",
    "\n",
    "A recurrence solution for Change problem would be like\n",
    "\\begin{equation*}\n",
    "    MinNumCoins(money) = min \n",
    "    \\begin{cases}\n",
    "        MinNumCoins(money - coin_1) + 1 \\\\\n",
    "        MinNumCoins(money - coin_2) + 1 \\\\\n",
    "        \\cdots \\\\\n",
    "        MinNumCoins(money - coin_d) + 1\n",
    "    \\end{cases}\n",
    "\\end{equation*}"
   ],
   "cell_type": "markdown",
   "metadata": {}
  },
  {
   "cell_type": "code",
   "execution_count": null,
   "metadata": {},
   "outputs": [],
   "source": [
    "def GreedyChange(money):\n",
    "    \"\"\"\n",
    "    money: an integer that needs to be changed\n",
    "    coins:  a sorted list of available coins\n",
    "    \"\"\"\n",
    "    Change = {}\n",
    "    while money > 0:\n",
    "        Find = False\n",
    "        for i in range(len(coins)-1):\n",
    "            if coins[i] <  money and coins[i+1] > money:\n",
    "                Find = True\n",
    "                break\n",
    "        if Find:\n",
    "            Change[coins[i]] = money // coins[i]\n",
    "            money -= coins[i] * Change[coins[i]]\n",
    "        else:\n",
    "            Change[coins[-1]] = money // coins[-1]\n",
    "            money -= coins[-1] * Change[coins[-1]]\n",
    "    return Change"
   ]
  },
  {
   "cell_type": "code",
   "execution_count": null,
   "metadata": {},
   "outputs": [],
   "source": [
    "def RecursiveChange(money, coins):\n",
    "    if money = 0:\n",
    "        return 0\n",
    "    MinNumCoins = inf\n",
    "    for i in range(len(coins)):\n",
    "        if money >= coins[i]:\n",
    "            NumCoins = RecursiveChange(money-coin[i], coins)\n",
    "            if NumCoins + 1 < MinNumCoins:\n",
    "                MinNumCoins = NumCoins + 1\n",
    "    return MinNumCoins"
   ]
  },
  {
   "source": [
    "However, for recursive solution of change problem, it might require calculating the same change for several times, which is time-consuming.\n",
    "\n",
    "## Dynamic Programming"
   ],
   "cell_type": "markdown",
   "metadata": {}
  },
  {
   "cell_type": "code",
   "execution_count": null,
   "metadata": {},
   "outputs": [],
   "source": [
    "def DPChange(money, coins):\n",
    "    \"\"\"\n",
    "    coins: a sorted list for coins\n",
    "    \"\"\"\n",
    "    MinNumCoins = [0 for i in range(money+1)]\n",
    "    for m in range(1, money+1):\n",
    "        MinNumCoins[m] = float(\"inf\")\n",
    "        for i in range(len(coins)):\n",
    "            if m >= coins[i]:\n",
    "                NumCoins = MinNumCoins[m-coins[i]] + 1\n",
    "                if NumCoins < MinNumCoins[m]:\n",
    "                    MinNumCoins[m] = NumCoins\n",
    "    return MinNumCoins[money]"
   ]
  },
  {
   "source": [
    "### The Alignment Game\n",
    "\n",
    "**Alignement game**: remove all symbols from two strings in such a way that the number of points is maximized: 1 point if match and 0 point if not. Remove from only one string is 0 point. (It might be necessary to insert, delete to maximize the points.)\n",
    "\n",
    "**Alignement score**: premium for every match (+1) and penalty for every mismatch (-$\\mu$), indel($-\\sigma$).\n",
    "\n",
    "#### Optimal Alignment\n",
    "**input**: Two strings, mismatch penalty $\\mu$, and indel penalty $\\sigma$.\n",
    "\n",
    "**output**: An alignment of the strings maximizing the score.\n",
    "\n",
    "Matches in an alignment of two strings form their common subsequence.\n",
    "\n",
    "edit distance: D(i, j) = min{D(i-1, j)+1, D(i, j-1)+1, D(i-1, j-1)+I(i,j)}"
   ],
   "cell_type": "markdown",
   "metadata": {}
  },
  {
   "cell_type": "code",
   "execution_count": null,
   "metadata": {},
   "outputs": [],
   "source": [
    "def EditDistance(A, B):\n",
    "    A, B = \"#\"+A, \"#\"+B\n",
    "    D = [[0 for j in range(len(B))] for i in range(len(A))]\n",
    "\n",
    "    for i in range(len(A)):\n",
    "        D[i][0] = i\n",
    "    for j in range(len(B)):\n",
    "        D[0][j] = j\n",
    "\n",
    "    for j in range(1, len(B)):\n",
    "        for i in range(1, len(A)):\n",
    "            insertion = D[i][j-1] + 1\n",
    "            deletion = D[i-1][j] + 1\n",
    "            match = D[i-1][j-1]\n",
    "            mismatch = D[i-1][j-1] + 1\n",
    "            if A[i] == B[j]:\n",
    "                D[i][j] = min(insertion, deletion, match)\n",
    "            else:\n",
    "                D[i][j] = min(insertion, deletion, mismatch)\n",
    "    return D"
   ]
  },
  {
   "source": [
    "## Reconstruct optimal alignment\n",
    "\n",
    "Any path from (0, 0) to (i, j) spells an alignment of prefixes A \\[i...i\\] and B\\[1...j\\]"
   ],
   "cell_type": "markdown",
   "metadata": {}
  },
  {
   "cell_type": "code",
   "execution_count": null,
   "metadata": {},
   "outputs": [],
   "source": [
    "def OutputAlignment(A, B, i, j):\n",
    "    D = EditDistance(A, B)\n",
    "    top, bottom = [], []\n",
    "    if i == 0 and j == 0:\n",
    "        return A[i], B[i]\n",
    "    if i > 0 and D[i][j] == D[i-1][j] + 1:\n",
    "        top, bottom = OutputAlignment(A, B, i-1, j)\n",
    "        top += A[i]\n",
    "        bottom += \"-\"\n",
    "    elif j > 0 and D[i][j] == D[i][j-1] + 1:\n",
    "        top, bottom = OutputAlignment(A, B, i, j-1)\n",
    "        top += \"-\"\n",
    "        bottom += B[j]\n",
    "    else: \n",
    "        top, bottom = OutputAlignment(A, B, i-1, j-1)\n",
    "        top += A[i]\n",
    "        bottom += B[j]\n",
    "    return top, bottom"
   ]
  }
 ],
 "metadata": {
  "language_info": {
   "codemirror_mode": {
    "name": "ipython",
    "version": 3
   },
   "file_extension": ".py",
   "mimetype": "text/x-python",
   "name": "python",
   "nbconvert_exporter": "python",
   "pygments_lexer": "ipython3",
   "version": "3.6.10-final"
  },
  "orig_nbformat": 2,
  "kernelspec": {
   "name": "python3",
   "display_name": "Python 3"
  }
 },
 "nbformat": 4,
 "nbformat_minor": 2
}