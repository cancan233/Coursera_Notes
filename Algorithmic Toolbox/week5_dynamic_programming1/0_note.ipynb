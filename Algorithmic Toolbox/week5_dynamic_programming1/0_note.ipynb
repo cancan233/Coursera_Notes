{
 "cells": [
  {
   "source": [
    "# Week 5 Dynamic Programming\n",
    "\n",
    "## Change problem\n",
    "**Input:** An integer *money* and positive integers *coin_1*, ..., *coin_d*.\n",
    "\n",
    "**Output:** The minimum number of coins with denominations *coin_1*, ..., *coin_d* that changes *money*.\n",
    "\n",
    "However, greedy algorithm might fail to return the minimum number of changes needed. For example, 40 = 25 + 10 + 5 while the true answer is 40 = 20 + 20.\n",
    "\n",
    "A recurrence solution for Change problem would be like\n",
    "\\begin{equation*}\n",
    "    MinNumCoins(money) = min \n",
    "    \\begin{cases}\n",
    "        MinNumCoins(money - coin_1) + 1 \\\\\n",
    "        MinNumCoins(money - coin_2) + 1 \\\\\n",
    "        \\cdots \\\\\n",
    "        MinNumCoins(money - coin_d) + 1\n",
    "    \\end{cases}\n",
    "\\end{equation*}"
   ],
   "cell_type": "markdown",
   "metadata": {}
  },
  {
   "cell_type": "code",
   "execution_count": null,
   "metadata": {},
   "outputs": [],
   "source": [
    "def GreedyChange(money):\n",
    "    \"\"\"\n",
    "    money: an integer that needs to be changed\n",
    "    coins:  a sorted list of available coins\n",
    "    \"\"\"\n",
    "    Change = {}\n",
    "    while money > 0:\n",
    "        Find = False\n",
    "        for i in range(len(coins)-1):\n",
    "            if coins[i] <  money and coins[i+1] > money:\n",
    "                Find = True\n",
    "                break\n",
    "        if Find:\n",
    "            Change[coins[i]] = money // coins[i]\n",
    "            money -= coins[i] * Change[coins[i]]\n",
    "        else:\n",
    "            Change[coins[-1]] = money // coins[-1]\n",
    "            money -= coins[-1] * Change[coins[-1]]\n",
    "    return Change"
   ]
  },
  {
   "cell_type": "code",
   "execution_count": null,
   "metadata": {},
   "outputs": [],
   "source": [
    "def RecursiveChange(money, coins):\n",
    "    if money = 0:\n",
    "        return 0\n",
    "    MinNumCoins = inf\n",
    "    for i in range(len(coins)):\n",
    "        if money >= coins[i]:\n",
    "            NumCoins = RecursiveChange(money-coin[i], coins)\n",
    "            if NumCoins + 1 < MinNumCoins:\n",
    "                MinNumCoins = NumCoins + 1\n",
    "    return MinNumCoins"
   ]
  },
  {
   "source": [
    "However, for recursive solution of change problem, the runtime is "
   ],
   "cell_type": "markdown",
   "metadata": {}
  }
 ],
 "metadata": {
  "language_info": {
   "codemirror_mode": {
    "name": "ipython",
    "version": 3
   },
   "file_extension": ".py",
   "mimetype": "text/x-python",
   "name": "python",
   "nbconvert_exporter": "python",
   "pygments_lexer": "ipython3",
   "version": 3
  },
  "orig_nbformat": 2
 },
 "nbformat": 4,
 "nbformat_minor": 2
}