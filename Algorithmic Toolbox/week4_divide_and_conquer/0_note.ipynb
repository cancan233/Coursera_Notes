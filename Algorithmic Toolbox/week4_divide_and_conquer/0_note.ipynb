{
 "metadata": {
  "language_info": {
   "codemirror_mode": {
    "name": "ipython",
    "version": 3
   },
   "file_extension": ".py",
   "mimetype": "text/x-python",
   "name": "python",
   "nbconvert_exporter": "python",
   "pygments_lexer": "ipython3",
   "version": 3
  },
  "orig_nbformat": 2
 },
 "nbformat": 4,
 "nbformat_minor": 2,
 "cells": [
  {
   "source": [
    "# Week 4\n",
    "## Introduction\n",
    "### Divide and Conquer Algorithm\n",
    "**Divide**: Break into **non-overlapping** subproblems of the **same type**.\n",
    "\n",
    "**Conquer**: solve subproblems and combine.\n",
    "\n",
    "Because each subproblem is the same type as our original problem, it is naturally to solve the problems recursively. \n",
    "\n",
    "### Linear Search in Array\n",
    "**Input**: An array $A$ with $n$ elements. A key $k$.\n",
    "\n",
    "**Output**: An index, $i$, where $A[i]=k$. If there is no such $i$, then NOT_FOUND.\n",
    "\n",
    "Below is the recursive version."
   ],
   "cell_type": "markdown",
   "metadata": {}
  },
  {
   "cell_type": "code",
   "execution_count": null,
   "metadata": {},
   "outputs": [],
   "source": [
    "LinearSearch(A, low, high, key):\n",
    "    if high < low:\n",
    "        return NOT_FOUND\n",
    "    if A[low] == key:\n",
    "        return low\n",
    "    return LinearSearch(A, low+1, high, key)"
   ]
  },
  {
   "source": [
    "A <span style=\"color:blue\">recurrence relation</span> is an equation recursively defining a sequence of values. Example: Fibonacci numbers.\n",
    "\n",
    "Recurrence defining worst-case time: $T(n) = T(n-1) + c$ and $T(0) = c$. Thus, the worse-case runtime for LinearSearch is $O(n)$.\n",
    "\n",
    "The iterative version of LinearSearch is:"
   ],
   "cell_type": "markdown",
   "metadata": {}
  },
  {
   "cell_type": "code",
   "execution_count": null,
   "metadata": {},
   "outputs": [],
   "source": [
    "LinearSearch(A, low, high, key):\n",
    "    for i in range(low, high):\n",
    "        if A[i] == key:\n",
    "            return i\n",
    "    return NOT_FOUND"
   ]
  },
  {
   "source": [
    "### Binary Search\n",
    "**Input**: A sorted array $A$, elements in $A$ can repeat, and a key $k$\n",
    "\n",
    "**Output**: An index, $i$, where $A[i] = k$; Otherwise, the greatest index $i$, where $A[i] < k$; Otherwise, *low-1*."
   ],
   "cell_type": "markdown",
   "metadata": {}
  },
  {
   "cell_type": "code",
   "execution_count": null,
   "metadata": {},
   "outputs": [],
   "source": [
    "import math\n",
    "\n",
    "def BinarySearch(A, low, high, key):\n",
    "    if high < low:\n",
    "        return low - 1\n",
    "    mid = math.floor(low + (high - low)/2)\n",
    "    if key = A[mid]:\n",
    "        return mid\n",
    "    else if key < A[mid]:\n",
    "        return BinarySearch(A, low, mid - 1, key)\n",
    "    else if key > A[mid]:\n",
    "        return BinarySearch(A, mid + 1, high, key)"
   ]
  },
  {
   "source": [
    "#### Binary Search Runtime Analysis\n",
    "\n",
    "Binary search recurrence relation: $T(n) = T(⌊n/2⌋) + c$, $T(0) = c$. There will be $log_2n$ times for an array of length $n$. So we could sum the time up and the total runtime is $O(log_2n)$. It can be written as $O(logn)$ as the base is not important.\n",
    "\n",
    "**Iterative Version**"
   ],
   "cell_type": "markdown",
   "metadata": {}
  },
  {
   "cell_type": "code",
   "execution_count": null,
   "metadata": {},
   "outputs": [],
   "source": [
    "import math\n",
    "\n",
    "def BinarySearchIt(A, low, high, key):\n",
    "    while low <= high:\n",
    "        mid = math.floor(low + (high - low) / 2)\n",
    "        if key = A[mid]:\n",
    "            return mid\n",
    "        else if key < A[mid]:\n",
    "            high = mid - 1\n",
    "        else:\n",
    "            low = mid + 1\n",
    "    return low - 1"
   ]
  },
  {
   "source": [
    "## Polynomial Multiplication\n",
    "Input: Two $n - 1$ degree polynomials: \n",
    "\\begin{align*}\n",
    "&a_{n-1}x^{n-1} + a_{n-2}x^{n-2} + ... + a_1x + a_0 \\\\\n",
    "&b_{n-1}x^{n-1} + b_{n-2}x^{n-2} + ... + b_1x + b_0\n",
    "\\end{align*}\n",
    "Output: The product polynomial:\n",
    "\\begin{equation*}\n",
    "c_{2n-2}x^{2n-2} + c_{2n-3}x^{2n-3} + ... + c_1x + c_0\n",
    "\\end{equation*}"
   ],
   "cell_type": "markdown",
   "metadata": {}
  },
  {
   "cell_type": "code",
   "execution_count": null,
   "metadata": {},
   "outputs": [],
   "source": []
  }
 ]
}