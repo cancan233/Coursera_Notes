{
 "cells": [
  {
   "source": [
    "# Week 4\n",
    "## Introduction\n",
    "### Divide and Conquer Algorithm\n",
    "**Divide**: Break into **non-overlapping** subproblems of the **same type**.\n",
    "\n",
    "**Conquer**: solve subproblems and combine.\n",
    "\n",
    "Because each subproblem is the same type as our original problem, it is naturally to solve the problems recursively. \n",
    "\n",
    "### Linear Search in Array\n",
    "**Input**: An array $A$ with $n$ elements. A key $k$.\n",
    "\n",
    "**Output**: An index, $i$, where $A[i]=k$. If there is no such $i$, then NOT_FOUND.\n",
    "\n",
    "Below is the recursive version."
   ],
   "cell_type": "markdown",
   "metadata": {}
  },
  {
   "cell_type": "code",
   "execution_count": null,
   "metadata": {},
   "outputs": [],
   "source": [
    "LinearSearch(A, low, high, key):\n",
    "    if high < low:\n",
    "        return NOT_FOUND\n",
    "    if A[low] == key:\n",
    "        return low\n",
    "    return LinearSearch(A, low+1, high, key)"
   ]
  },
  {
   "source": [
    "A <span style=\"color:blue\">recurrence relation</span> is an equation recursively defining a sequence of values. Example: Fibonacci numbers.\n",
    "\n",
    "Recurrence defining worst-case time: $T(n) = T(n-1) + c$ and $T(0) = c$. Thus, the worse-case runtime for LinearSearch is $O(n)$.\n",
    "\n",
    "The iterative version of LinearSearch is:"
   ],
   "cell_type": "markdown",
   "metadata": {}
  },
  {
   "cell_type": "code",
   "execution_count": null,
   "metadata": {},
   "outputs": [],
   "source": [
    "LinearSearch(A, low, high, key):\n",
    "    for i in range(low, high):\n",
    "        if A[i] == key:\n",
    "            return i\n",
    "    return NOT_FOUND"
   ]
  },
  {
   "source": [
    "### Binary Search\n",
    "**Input**: A sorted array $A$, elements in $A$ can repeat, and a key $k$\n",
    "\n",
    "**Output**: An index, $i$, where $A[i] = k$; Otherwise, the greatest index $i$, where $A[i] < k$; Otherwise, *low-1*."
   ],
   "cell_type": "markdown",
   "metadata": {}
  },
  {
   "cell_type": "code",
   "execution_count": null,
   "metadata": {},
   "outputs": [],
   "source": [
    "import math\n",
    "\n",
    "def BinarySearch(A, low, high, key):\n",
    "    if high < low:\n",
    "        return low - 1\n",
    "    mid = math.floor(low + (high - low)/2)\n",
    "    if key = A[mid]:\n",
    "        return mid\n",
    "    else if key < A[mid]:\n",
    "        return BinarySearch(A, low, mid - 1, key)\n",
    "    else if key > A[mid]:\n",
    "        return BinarySearch(A, mid + 1, high, key)"
   ]
  },
  {
   "source": [
    "#### Binary Search Runtime Analysis\n",
    "\n",
    "Binary search recurrence relation: $T(n) = T\\left(\\left\\lfloor n/2 \\right\\rfloor\\right) + c$, $T(0) = c$. There will be $log_2n$ times for an array of length $n$. So we could sum the time up and the total runtime is $O(log_2n)$. It can be written as $O(logn)$ as the base is not important.\n",
    "\n",
    "**Iterative Version**"
   ],
   "cell_type": "markdown",
   "metadata": {}
  },
  {
   "cell_type": "code",
   "execution_count": null,
   "metadata": {},
   "outputs": [],
   "source": [
    "import math\n",
    "\n",
    "def BinarySearchIt(A, low, high, key):\n",
    "    while low <= high:\n",
    "        mid = math.floor(low + (high - low) / 2)\n",
    "        if key = A[mid]:\n",
    "            return mid\n",
    "        else if key < A[mid]:\n",
    "            high = mid - 1\n",
    "        else:\n",
    "            low = mid + 1\n",
    "    return low - 1"
   ]
  },
  {
   "source": [
    "## Polynomial Multiplication\n",
    "Input: Two $n - 1$ degree polynomials: $A = (a_{n-1}, a_{n-2}, ..., a_1, a_0)$ and $B = (b_{n-1}, b_{n-2}, ..., b_1, b_0)$\n",
    "\\begin{align*}\n",
    "&a_{n-1}x^{n-1} + a_{n-2}x^{n-2} + ... + a_1x + a_0 \\\\\n",
    "&b_{n-1}x^{n-1} + b_{n-2}x^{n-2} + ... + b_1x + b_0\n",
    "\\end{align*}\n",
    "Output: The product polynomial:\n",
    "\\begin{equation*}\n",
    "c_{2n-2}x^{2n-2} + c_{2n-3}x^{2n-3} + ... + c_1x + c_0\n",
    "\\end{equation*}\n",
    "where $c_{2n-2} = a_{n-1}b_{n-1}$, $c_{2n-3} = a_{n-1}b_{n-2} + a_{n-2}b_{n-1}$, ..., $c_1 = a_1b_0+a_0b_1$, $c_0=a_0b_0$.\n",
    "\n",
    "Thus, we could see the naive algorithm is"
   ],
   "cell_type": "markdown",
   "metadata": {}
  },
  {
   "source": [
    "import numpy as np\n",
    "\n",
    "def MultPoly(A, B, n):\n",
    "    product = np.zeros(2*n-1)\n",
    "    for i in range(n-1):\n",
    "        for j in range(n-1):\n",
    "            product[i+j] += A[i]*B[j]\n",
    "    return product"
   ],
   "cell_type": "code",
   "metadata": {},
   "execution_count": 5,
   "outputs": []
  },
  {
   "source": [
    "The runtime for `MultPoly()` function is $O(n^2)$."
   ],
   "cell_type": "markdown",
   "metadata": {}
  },
  {
   "source": [
    "### Naive Divide and Conquer Algorithm\n",
    "Let $A(x) = D_1(x)x^{\\frac{n}{2}} + D_0(x)$ where\n",
    "\\begin{equation*}\n",
    "    D_1(x) = a_{n-1}x^{\\frac{n}{2}-1} + a_{n-2}x^{\\frac{n}{2}-2} + ... + a_{\\frac{n}{2}} \\\\\n",
    "    D_0(x) = a_{\\frac{n}{2}-1}x^{\\frac{n}{2}-1} + a_{\\frac{n}{2}-2}x^{\\frac{n}{2}-2} + ... + a_0\n",
    "\\end{equation*}\n",
    "and $B(x) = E_1(x)x^{\\frac{n}{2}} + E_0(x)$ where $E_1(x)$ and $E_0(x)$ have similar form as $D(x)$.\n",
    "\n",
    "Then, we have \n",
    "\\begin{align*}\n",
    "    AB &= (D_1x^{\\frac{n}{2}} + D_0)(E_1x^{\\frac{n}{2}} + E_0) \\\\\n",
    "       &= (D_1E_1)x^n + (D_1E_0 + D_0E_1)x^{\\frac{n}{2}} + D_0E_0\n",
    "\\end{align*}\n",
    "\n",
    "Recurrence: the runtime is $T(n)=4T(\\frac{n}{2})+kn$."
   ],
   "cell_type": "markdown",
   "metadata": {}
  },
  {
   "cell_type": "code",
   "execution_count": null,
   "metadata": {},
   "outputs": [],
   "source": [
    "import numpy as np\n",
    "\n",
    "def Mult2(A, B, n, ai, bi):\n",
    "    \"\"\"\n",
    "    ai, bi: coefficients that we are interested in.\n",
    "    \"\"\"\n",
    "    R = np.zeros(2*n-1)\n",
    "    if n = 1:\n",
    "        R[0] = A[ai] * B[bi]\n",
    "        return R\n",
    "    R[0:n-2] = Mult2(A, B, n/2, ai, bi)\n",
    "    R[n:2n-2] = Mult2(A, B, n/2, ai+n/2, bi+n/2)\n",
    "    D0E1 = Mult2(A, B, n/2, ai, bi+n/2)\n",
    "    D1E0 = Mult2(A, B, n/2, ai+n/2, bi)\n",
    "    R[n/2:n+n/2-2] += D1E0 + D0E1\n",
    "    return R"
   ]
  },
  {
   "source": [
    "`Mult2()` function requires that $n$ is a power of 2 so the code can safely calculate $\\frac{n}{2}$ without worrying about rounding. It can be achieved by padding each polynomial with zero terms to the needed degree.\n",
    "\n",
    "The runtime is $\\sum_{i=0}^{log_2n}4^ik\\frac{n}{2^i} = O(n^2)$, which is the same as the naive algorithm."
   ],
   "cell_type": "markdown",
   "metadata": {}
  },
  {
   "source": [
    "### Karatsuba approach\n",
    "Rewrite $C(x) = a_1b_1x^2 + (a_1b_0 + a_0b_1)x + a_0b_0$ as \n",
    "\\begin{equation*}\n",
    "    C(x) = a_1b_1x^2 + ((a_1 + a_0)(b_1 + b_0) - a_1b_1 - a_0b_0)x + a_0b_0\n",
    "\\end{equation*}\n",
    "which only needs 3 multiplications.\n",
    "\n",
    "The runtime is $\\sum_{i=0}^{log_2n}k\\frac{n}{2^i}=O(n^{log_23})=O(n^{1.58})$. Note: the extra additions change the $k$ constant here."
   ],
   "cell_type": "markdown",
   "metadata": {}
  }
 ],
 "metadata": {
  "language_info": {
   "codemirror_mode": {
    "name": "ipython",
    "version": 3
   },
   "file_extension": ".py",
   "mimetype": "text/x-python",
   "name": "python",
   "nbconvert_exporter": "python",
   "pygments_lexer": "ipython3",
   "version": "3.6.10-final"
  },
  "orig_nbformat": 2,
  "kernelspec": {
   "name": "python3",
   "display_name": "Python 3"
  }
 },
 "nbformat": 4,
 "nbformat_minor": 2
}