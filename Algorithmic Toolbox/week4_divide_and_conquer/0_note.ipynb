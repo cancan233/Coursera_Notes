{
 "cells": [
  {
   "source": [
    "# Week 4\n",
    "## Introduction\n",
    "### Divide and Conquer Algorithm\n",
    "**Divide**: Break into **non-overlapping** subproblems of the **same type**.\n",
    "\n",
    "**Conquer**: solve subproblems and combine.\n",
    "\n",
    "Because each subproblem is the same type as our original problem, it is naturally to solve the problems recursively. \n",
    "\n",
    "### Linear Search in Array\n",
    "**Input**: An array $A$ with $n$ elements. A key $k$.\n",
    "\n",
    "**Output**: An index, $i$, where $A[i]=k$. If there is no such $i$, then NOT_FOUND.\n",
    "\n",
    "Below is the recursive version."
   ],
   "cell_type": "markdown",
   "metadata": {}
  },
  {
   "cell_type": "code",
   "execution_count": 1,
   "metadata": {},
   "outputs": [],
   "source": [
    "def LinearSearch(A, low, high, key):\n",
    "    if high < low:\n",
    "        return NOT_FOUND\n",
    "    if A[low] == key:\n",
    "        return low\n",
    "    return LinearSearch(A, low+1, high, key)"
   ]
  },
  {
   "source": [
    "A <span style=\"color:blue\">recurrence relation</span> is an equation recursively defining a sequence of values. Example: Fibonacci numbers.\n",
    "\n",
    "Recurrence defining worst-case time: $T(n) = T(n-1) + c$ and $T(0) = c$. Thus, the worse-case runtime for LinearSearch is $O(n)$.\n",
    "\n",
    "The iterative version of LinearSearch is:"
   ],
   "cell_type": "markdown",
   "metadata": {}
  },
  {
   "cell_type": "code",
   "execution_count": 2,
   "metadata": {},
   "outputs": [],
   "source": [
    "def LinearSearch(A, low, high, key):\n",
    "    for i in range(low, high):\n",
    "        if A[i] == key:\n",
    "            return i\n",
    "    return NOT_FOUND"
   ]
  },
  {
   "source": [
    "### Binary Search\n",
    "**Input**: A sorted array $A$, elements in $A$ can repeat, and a key $k$\n",
    "\n",
    "**Output**: An index, $i$, where $A[i] = k$; Otherwise, the greatest index $i$, where $A[i] < k$; Otherwise, *low-1*."
   ],
   "cell_type": "markdown",
   "metadata": {}
  },
  {
   "cell_type": "code",
   "execution_count": 3,
   "metadata": {},
   "outputs": [
    {
     "output_type": "error",
     "ename": "SyntaxError",
     "evalue": "invalid syntax (<ipython-input-3-093b4ae49204>, line 7)",
     "traceback": [
      "\u001b[0;36m  File \u001b[0;32m\"<ipython-input-3-093b4ae49204>\"\u001b[0;36m, line \u001b[0;32m7\u001b[0m\n\u001b[0;31m    if key = A[mid]:\u001b[0m\n\u001b[0m           ^\u001b[0m\n\u001b[0;31mSyntaxError\u001b[0m\u001b[0;31m:\u001b[0m invalid syntax\n"
     ]
    }
   ],
   "source": [
    "import math\n",
    "\n",
    "def BinarySearch(A, low, high, key):\n",
    "    if high < low:\n",
    "        return low - 1\n",
    "    mid = math.floor(low + (high - low)/2)\n",
    "    if key == A[mid]:\n",
    "        return mid\n",
    "    else if key < A[mid]:\n",
    "        return BinarySearch(A, low, mid - 1, key)\n",
    "    else if key > A[mid]:\n",
    "        return BinarySearch(A, mid + 1, high, key)"
   ]
  },
  {
   "source": [
    "#### Binary Search Runtime Analysis\n",
    "\n",
    "Binary search recurrence relation: $T(n) = T\\left(\\left\\lfloor n/2 \\right\\rfloor\\right) + c$, $T(0) = c$. There will be $log_2n$ times for an array of length $n$. So we could sum the time up and the total runtime is $O(log_2n)$. It can be written as $O(\\log n)$ as the base is not important.\n",
    "\n",
    "**Iterative Version**"
   ],
   "cell_type": "markdown",
   "metadata": {}
  },
  {
   "cell_type": "code",
   "execution_count": 1,
   "metadata": {},
   "outputs": [
    {
     "output_type": "error",
     "ename": "SyntaxError",
     "evalue": "invalid syntax (<ipython-input-1-b3d48ec4622c>, line 6)",
     "traceback": [
      "\u001b[0;36m  File \u001b[0;32m\"<ipython-input-1-b3d48ec4622c>\"\u001b[0;36m, line \u001b[0;32m6\u001b[0m\n\u001b[0;31m    if key = A[mid]:\u001b[0m\n\u001b[0m           ^\u001b[0m\n\u001b[0;31mSyntaxError\u001b[0m\u001b[0;31m:\u001b[0m invalid syntax\n"
     ]
    }
   ],
   "source": [
    "import math\n",
    "\n",
    "def BinarySearchIt(A, low, high, key):\n",
    "    while low <= high:\n",
    "        mid = math.floor(low + (high - low) / 2)\n",
    "        if key == A[mid]:\n",
    "            return mid\n",
    "        else if key < A[mid]:\n",
    "            high = mid - 1\n",
    "        else:\n",
    "            low = mid + 1\n",
    "    return low - 1"
   ]
  },
  {
   "source": [
    "## Polynomial Multiplication\n",
    "Input: Two $n - 1$ degree polynomials: $A = (a_{n-1}, a_{n-2}, ..., a_1, a_0)$ and $B = (b_{n-1}, b_{n-2}, ..., b_1, b_0)$\n",
    "\\begin{align*}\n",
    "&a_{n-1}x^{n-1} + a_{n-2}x^{n-2} + ... + a_1x + a_0 \\\\\n",
    "&b_{n-1}x^{n-1} + b_{n-2}x^{n-2} + ... + b_1x + b_0\n",
    "\\end{align*}\n",
    "Output: The product polynomial:\n",
    "\\begin{equation*}\n",
    "c_{2n-2}x^{2n-2} + c_{2n-3}x^{2n-3} + ... + c_1x + c_0\n",
    "\\end{equation*}\n",
    "where $c_{2n-2} = a_{n-1}b_{n-1}$, $c_{2n-3} = a_{n-1}b_{n-2} + a_{n-2}b_{n-1}$, ..., $c_1 = a_1b_0+a_0b_1$, $c_0=a_0b_0$.\n",
    "\n",
    "Thus, we could see the naive algorithm is"
   ],
   "cell_type": "markdown",
   "metadata": {}
  },
  {
   "source": [
    "import numpy as np\n",
    "\n",
    "def MultPoly(A, B, n):\n",
    "    product = np.zeros(2*n-1)\n",
    "    for i in range(n-1):\n",
    "        for j in range(n-1):\n",
    "            product[i+j] += A[i]*B[j]\n",
    "    return product"
   ],
   "cell_type": "code",
   "metadata": {},
   "execution_count": 2,
   "outputs": []
  },
  {
   "source": [
    "The runtime for `MultPoly()` function is $O(n^2)$."
   ],
   "cell_type": "markdown",
   "metadata": {}
  },
  {
   "source": [
    "### Naive Divide and Conquer Algorithm\n",
    "Let $A(x) = D_1(x)x^{\\frac{n}{2}} + D_0(x)$ where\n",
    "\\begin{equation*}\n",
    "    D_1(x) = a_{n-1}x^{\\frac{n}{2}-1} + a_{n-2}x^{\\frac{n}{2}-2} + ... + a_{\\frac{n}{2}} \\\\\n",
    "    D_0(x) = a_{\\frac{n}{2}-1}x^{\\frac{n}{2}-1} + a_{\\frac{n}{2}-2}x^{\\frac{n}{2}-2} + ... + a_0\n",
    "\\end{equation*}\n",
    "and $B(x) = E_1(x)x^{\\frac{n}{2}} + E_0(x)$ where $E_1(x)$ and $E_0(x)$ have similar form as $D(x)$.\n",
    "\n",
    "Then, we have \n",
    "\\begin{align*}\n",
    "    AB &= (D_1x^{\\frac{n}{2}} + D_0)(E_1x^{\\frac{n}{2}} + E_0) \\\\\n",
    "       &= (D_1E_1)x^n + (D_1E_0 + D_0E_1)x^{\\frac{n}{2}} + D_0E_0\n",
    "\\end{align*}\n",
    "\n",
    "Recurrence: the runtime is $T(n)=4T(\\frac{n}{2})+kn$, i.e. $T(n)=4T(\\frac{n}{2})+O(n)$."
   ],
   "cell_type": "markdown",
   "metadata": {}
  },
  {
   "cell_type": "code",
   "execution_count": 7,
   "metadata": {},
   "outputs": [],
   "source": [
    "import numpy as np\n",
    "\n",
    "def Mult2(A, B, n, ai, bi):\n",
    "    \"\"\"\n",
    "    ai, bi: coefficients that we are interested in.\n",
    "    \"\"\"\n",
    "    R = np.zeros(2*n-1)\n",
    "    if n == 1:\n",
    "        R[0] = A[ai] * B[bi]\n",
    "        return R\n",
    "    R[0:n-2] = Mult2(A, B, n/2, ai, bi)\n",
    "    R[n:2*n-2] = Mult2(A, B, n/2, ai+n/2, bi+n/2)\n",
    "    D0E1 = Mult2(A, B, n/2, ai, bi+n/2)\n",
    "    D1E0 = Mult2(A, B, n/2, ai+n/2, bi)\n",
    "    R[n/2:n+n/2-2] += D1E0 + D0E1\n",
    "    return R"
   ]
  },
  {
   "source": [
    "`Mult2()` function requires that $n$ is a power of 2 so the code can safely calculate $\\frac{n}{2}$ without worrying about rounding. It can be achieved by padding each polynomial with zero terms to the needed degree.\n",
    "\n",
    "The runtime is $\\sum_{i=0}^{log_2n}4^ik\\frac{n}{2^i} = O(n^2)$, which is the same as the naive algorithm."
   ],
   "cell_type": "markdown",
   "metadata": {}
  },
  {
   "source": [
    "### Karatsuba approach\n",
    "Rewrite $C(x) = a_1b_1x^2 + (a_1b_0 + a_0b_1)x + a_0b_0$ as \n",
    "\\begin{equation*}\n",
    "    C(x) = a_1b_1x^2 + ((a_1 + a_0)(b_1 + b_0) - a_1b_1 - a_0b_0)x + a_0b_0\n",
    "\\end{equation*}\n",
    "which only needs 3 multiplications.\n",
    "\n",
    "The runtime is $\\sum_{i=0}^{\\log_2n}k\\frac{n}{2^i}=O(n^{\\log_23})=O(n^{1.58})$. Note: the extra additions change the $k$ constant here."
   ],
   "cell_type": "markdown",
   "metadata": {}
  },
  {
   "source": [
    "## Master Theorem\n",
    "\n",
    "If $T(n) = aT(\\lceil \\frac{n}{b} \\rceil) + O(n^d)$ (for constants $a > 0$, $b > 0$, $d \\geq 0$), then:\n",
    "\n",
    "\\begin{equation*}\n",
    "    T(n) = \n",
    "    \\begin{cases}\n",
    "        O(n^d) & \\text{if $d>\\log_ba$} \\\\\n",
    "        O(n^d\\log n) & \\text{if $d = \\log_ba$}\\\\\n",
    "        O(n^{\\log_ba}) & \\text{if $d <  \\log_ba$}\\\\\n",
    "    \\end{cases}\n",
    "\\end{equation*}\n",
    "\n",
    "To prove the above therom, we first can derive that runtime is $\\sum_{i=0}^{\\log_bn}O(n^d)\\left(\\frac{a}{b^d}\\right)^i$. Then based upon geometric series below, there should be three cases.\n",
    "\n",
    "### Geometric Series\n",
    "For $r \\neq 1$:\n",
    "\n",
    "\\begin{align*}\n",
    "    &a + ar + ar^2 + ar^3 + ... + ar^{n - 1} \\\\\n",
    "    = &a \\frac{1 - r ^n}{1 - r} \\\\\n",
    "    = & \\begin{cases}\n",
    "        O(a) & \\text{if $r < 1$} \\\\\n",
    "        O(ar^{n-1}) & \\text{if $r > 1$}\n",
    "    \\end{cases}\n",
    "\\end{align*}\n",
    "\n",
    "Note: $a^{log_bn} = (b^{log_ba})^{log_bn} = (b^{log_bn})^{log_ba} = n^{log_ba}$."
   ],
   "cell_type": "markdown",
   "metadata": {}
  },
  {
   "source": [
    "## Sorting Problem\n",
    "\n",
    "**Input**: Sequence $A[1...n]$\n",
    "\n",
    "**Output**: Permutation $A'[1...n]$ of $A[1...n]$ in non-decreasing order.\n",
    "\n",
    "### Selection Sort\n",
    "* Find a minimum by scanning the array\n",
    "* Swap it with the first element\n",
    "* Repeat with the remaining part of the array"
   ],
   "cell_type": "markdown",
   "metadata": {}
  },
  {
   "cell_type": "code",
   "execution_count": 8,
   "metadata": {},
   "outputs": [],
   "source": [
    "def swap(Ai, Aj):\n",
    "    temp = Ai\n",
    "    Ai = Aj\n",
    "    Aj = temp\n",
    "    return Ai, Aj\n",
    "\n",
    "def SelectionSort(A):\n",
    "    n = len(A)\n",
    "    for i in range(n):\n",
    "        minIndex = i\n",
    "        for j in range(i+1, n):\n",
    "            if A[j] < A[minIndex]:\n",
    "                minIndex = j\n",
    "        swap(A[i], A[minIndex])"
   ]
  },
  {
   "source": [
    "The running time of `SelectionSort()` is $O(n^2)$. Proof: $n$ iterations of outer loop, at most $n$ iterations of inner loop.\n",
    "\n",
    "Sort in place: requires a constant amount of extra memory."
   ],
   "cell_type": "markdown",
   "metadata": {}
  },
  {
   "source": [
    "### Merge Sort\n",
    "* split the array into two halves\n",
    "* sort the halves recursively\n",
    "* merge the sorted halves into one array"
   ],
   "cell_type": "markdown",
   "metadata": {}
  },
  {
   "cell_type": "code",
   "execution_count": 9,
   "metadata": {},
   "outputs": [],
   "source": [
    "import numpy as np\n",
    "import math\n",
    "\n",
    "def Merge(B, C):\n",
    "    '''\n",
    "    B: a numpy array of size len(B)\n",
    "    C: a numpy array of size len(C)\n",
    "    '''\n",
    "    D = np.zeros(len(B) + len(C))\n",
    "    i, j, k = 0, 0, 0\n",
    "    while (i < len(B)) and (j < len(C)):\n",
    "        if B[i] <= C[j]:\n",
    "            D[k] = B[i]\n",
    "            i += 1\n",
    "        else:\n",
    "            D[k] = C[j]\n",
    "            j += 1\n",
    "        k += 1\n",
    "    while i < len(B):\n",
    "        D[k] = B[i]\n",
    "        k += 1\n",
    "        i += 1\n",
    "    while j < len(C):\n",
    "        D[k] = C[j]\n",
    "        k += 1\n",
    "        j += 1\n",
    "    return D\n",
    "\n",
    "def MergeSort(A):\n",
    "    '''\n",
    "    A: a numpy array of size n\n",
    "    '''\n",
    "    n = len(A)\n",
    "    if n == 1:\n",
    "        return A\n",
    "    m = math.floor(n / 2)\n",
    "    B = MergeSort(A[:m])\n",
    "    C = MergeSort(A[m:])\n",
    "    new_A = Merge(B, C)\n",
    "    return new_A    "
   ]
  },
  {
   "source": [
    "The running time of `MergeSort()` is $O(n\\log n)$.\n",
    "\n",
    "Proof:\n",
    "* The running time of merging $B$ and $C$ is $O(n)$.\n",
    "* It satisties a recurrence $T(n) \\leq 2T(n/2) + O(n)$."
   ],
   "cell_type": "markdown",
   "metadata": {}
  },
  {
   "source": [
    "### Lower Bound for Comparison Based Sorting\n",
    "* A comparison based sorting algortihm sorts objects by comparing pairs of them.\n",
    "\n",
    "Any comparison based sorting algorithm performs $\\Omega(n\\log n)$ comparisons in the worst case to sort $n$ objects.\n",
    "\n",
    "The number of leaves $\\ell$ in the comparison tree must be at least $n!$ (the total number of permutations).\n",
    "\n",
    "The worst-case running time of the algorithm (the number of comparisons made) is at least the depth $d$, where $d \\geq \\log_2{\\ell}$.\n",
    "\n",
    "\\begin{equation*}\n",
    "    \\begin{split}\n",
    "        \\log_2(n!) &= \\log_2(1 \\cdot2 \\cdots n) \\\\\n",
    "                  &= \\log_21 + \\log_22 + \\cdots + \\log_2n \\\\\n",
    "                  &\\geq \\log_2\\frac{n}{2} + \\cdots + \\log_2n   \\text{(throw away first half)}\\\\ \n",
    "                  &\\geq \\frac{n}{2}\\log_2\\frac{n}{2} = \\Omega(n\\log n) \\\\\n",
    "    \\end{split}\n",
    "\\end{equation*}"
   ],
   "cell_type": "markdown",
   "metadata": {}
  },
  {
   "source": [
    "### Non-Comparison Based Sorting Algorithm\n",
    "\n",
    "#### Counting Sort\n",
    "* Assume that all elements of $A[1...n]$ are integers from $1$ to $M$.\n",
    "* By a single scan of the array $A$, count the number of occurrences of each $1 \\leq k \\leq M$ in the array $A$ and store it in $Count[k]$.\n",
    "* Using this information, fill in the sorted array $A'$."
   ],
   "cell_type": "markdown",
   "metadata": {}
  },
  {
   "cell_type": "code",
   "execution_count": 55,
   "metadata": {},
   "outputs": [],
   "source": [
    "def CountSort(A):\n",
    "    '''\n",
    "    A: an array of size n\n",
    "    m: m different numbers in array A\n",
    "    '''\n",
    "    n = len(A)\n",
    "    count = {}\n",
    "    for i in range(n):\n",
    "        if A[i] not in count:\n",
    "            count[A[i]] = 1\n",
    "        else:\n",
    "            count[A[i]] += 1\n",
    "    new_A = [\"\" for i in range(n)]\n",
    "    k = 0\n",
    "    for i in list(count.keys()):\n",
    "        for j in range(count[i]):\n",
    "            new_A[k] = i\n",
    "            k += 1\n",
    "\n",
    "    return new_A"
   ]
  },
  {
   "source": [
    "Provided that all elements of $A$ are integers from 1 to $M$, `CountSort()` sorts $A$ in time $O(n+M)$."
   ],
   "cell_type": "markdown",
   "metadata": {}
  }
 ],
 "metadata": {
  "language_info": {
   "codemirror_mode": {
    "name": "ipython",
    "version": 3
   },
   "file_extension": ".py",
   "mimetype": "text/x-python",
   "name": "python",
   "nbconvert_exporter": "python",
   "pygments_lexer": "ipython3",
   "version": "3.6.10-final"
  },
  "orig_nbformat": 2,
  "kernelspec": {
   "name": "python3",
   "display_name": "Python 3"
  }
 },
 "nbformat": 4,
 "nbformat_minor": 2
}