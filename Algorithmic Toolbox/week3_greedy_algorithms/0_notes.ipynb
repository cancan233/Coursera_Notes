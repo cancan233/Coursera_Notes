{
 "metadata": {
  "language_info": {
   "codemirror_mode": {
    "name": "ipython",
    "version": 3
   },
   "file_extension": ".py",
   "mimetype": "text/x-python",
   "name": "python",
   "nbconvert_exporter": "python",
   "pygments_lexer": "ipython3",
   "version": "3.8.3-final"
  },
  "orig_nbformat": 2,
  "kernelspec": {
   "name": "Python 3.8.3 64-bit ('pythonenv3.8')",
   "display_name": "Python 3.8.3 64-bit ('pythonenv3.8')",
   "metadata": {
    "interpreter": {
     "hash": "4447857041db240bb2b6f4222badba5647c621962cf664048da7dfbec0e0db1c"
    }
   }
  }
 },
 "nbformat": 4,
 "nbformat_minor": 2,
 "cells": [
  {
   "source": [
    "# Week 3\n",
    "## Largest Number\n",
    "the maximum number from the remaining digits and append them one by one."
   ],
   "cell_type": "markdown",
   "metadata": {}
  },
  {
   "source": [
    "## Car Fueling\n",
    "**Input**: A car which can travel at most $L$ kilometers with full tank, a source point $A$, a destination point $B$ and $n$ gas stations at distances $x_1 \\leq x_2 \\leq x_3 \\leq \\dots \\leq x_n$ in kilometers from $A$ along the path from $A$ to $B$. \n",
    "\n",
    "**Output**: the minimum number of refills to get from $A$ to $B$, besides refill at $A$.\n",
    "**Greedy Choice**: Refill at the farthest reachable gas station\n",
    "\n",
    "**Algorithm**:\n",
    "* start at $A$\n",
    "* refill at the farthest reachable gas station $G$\n",
    "* Make $G$ new $A$"
   ],
   "cell_type": "markdown",
   "metadata": {}
  },
  {
   "source": [
    "## Algorithm Implementation\n",
    "Define: $A = x_0 \\leq x_1 \\leq x_2 \\leq \\dots \\leq x_n \\leq x_{n+1} = B$"
   ],
   "cell_type": "markdown",
   "metadata": {}
  },
  {
   "cell_type": "code",
   "execution_count": 1,
   "metadata": {},
   "outputs": [],
   "source": [
    "def MinRefills(x, n, L):\n",
    "    numRefills, currentRefill = 0, 0\n",
    "    while currentRefill <= n:\n",
    "        lastRefill = currentRefill\n",
    "        while (currentRefill <= n and x[currentRefill + 1] - x[lastRefill] <= L):\n",
    "            currentRefill += 1\n",
    "        if currentRefill == lastRefill:\n",
    "            return False\n",
    "        if currentRefill <= n:\n",
    "            numRefill += 1\n",
    "    return numRefills"
   ]
  },
  {
   "source": [
    "### Runtime analysis\n",
    "The running time of MinRefills(x, n, L) is *O(n)*"
   ],
   "cell_type": "markdown",
   "metadata": {}
  },
  {
   "source": [
    "## Main Ingredients of Greedy Algorithms\n",
    "\n",
    "* break into sub-small problem\n",
    "\n",
    "* safe move\n",
    "\n",
    "A move is safe if there is an optimal solution consistent with this first move."
   ],
   "cell_type": "markdown",
   "metadata": {}
  },
  {
   "source": [
    "### General Strategy\n",
    "\n",
    "* Make a greedy choice\n",
    "* Prove that it is a safe move\n",
    "* Reduce to the subproblem"
   ],
   "cell_type": "markdown",
   "metadata": {}
  },
  {
   "source": [
    "## Celebration Party Problem\n",
    "\n",
    "Organize children into the minimum possible number of groups such that the age of any two children in the same group differ by at most one year. \n",
    "\n",
    "Let $a_1$, $a_2$, ..., $a_n$ be $n$ objects. Let $g_{1}$, $g_{2}$, ..., $g_{k}$ be $k$ (with $k \\leq n$) groups to which we can assign the $n$ objects. $n_{1}$ objects can be assigned to group $g_{1}$, $n_{2}$ objects can be assigned to group $g_{2}$ and so on. $n_{1}$, $n_{2}$, ..., $n_{k} $ are such that:\n",
    "\n",
    "\\begin{equation*}\n",
    "    n_1 + n_2 + ... + n_k = n\n",
    "\\end{equation*}\n",
    "\n",
    "The number of such partition can be denoted as \n",
    "\\begin{equation*}\n",
    "    P_{n_1,n_2,...,n_k} = \\frac{n!}{n_1!n_2!...n_k!} \n",
    "\\end{equation*}\n",
    "\n",
    "The problem we solve here can be translated into the problem that above $k$ is the number of students and the minimum possible number of groups is to count the partition that meet the criteria with the fewest group holding students."
   ],
   "cell_type": "markdown",
   "metadata": {}
  },
  {
   "cell_type": "code",
   "execution_count": 5,
   "metadata": {},
   "outputs": [],
   "source": [
    "def naive_MinGroups(C):\n",
    "    m = len(C)\n",
    "    # here totalP denotes the partition set, p is one partition case and it contains k groups, each group will include the student ages.\n",
    "    for p in totalP:\n",
    "        num_notempty_group = 0\n",
    "        good = True\n",
    "        for _group in p:\n",
    "            if len(_group) != 0:\n",
    "                num_notempty_group += 1\n",
    "                if max(_group) - min(_group) > 1:\n",
    "                    good = False\n",
    "        if good:\n",
    "            m = min(m, num_notempty_group)\n",
    "    return m"
   ]
  },
  {
   "source": [
    "However, the above algorithm needs at least $2^n$ operations. (exponential)\n",
    "\n",
    "In greedy algorithm, we need to define the safe move. In this case, the safe move is to cover the leftmost point with a unit segment with left end in this point."
   ],
   "cell_type": "markdown",
   "metadata": {}
  },
  {
   "cell_type": "code",
   "execution_count": null,
   "metadata": {},
   "outputs": [],
   "source": [
    "def PointsCoverSorted(x):\n",
    "    \"\"\"\n",
    "    x is a list points ordered from small to large.\n",
    "    \"\"\"\n",
    "\tR = {}\n",
    "\ti = 1\n",
    "    while i <= n:\n",
    "        [left, right] = [x[i], x[i] + 1]\n",
    "        R.add(left)\n",
    "        R.add(right)\n",
    "        i += 1\n",
    "        while i <= n and x[i] <= right:\n",
    "            i += 1\n",
    "    return R"
   ]
  },
  {
   "source": [
    "The running time of `PointsCoverSorted()` is $O(n)$.\n",
    "\n",
    "Sorting in $O(n logn)$ and the total running time would be $O(nlogn)$"
   ],
   "cell_type": "markdown",
   "metadata": {}
  },
  {
   "source": [
    "## Fractional Knapsack\n",
    "Given the total weight $W$, how to carry the most valuable things?"
   ],
   "cell_type": "markdown",
   "metadata": {}
  },
  {
   "cell_type": "code",
   "execution_count": null,
   "metadata": {},
   "outputs": [],
   "source": [
    "def Knapsack(W, n, w1, v1, ..., wn, vn):\n",
    "    A = [0 for i in range(n)]\n",
    "    V = 0\n",
    "    for _ in range(n):\n",
    "        if W = 0:\n",
    "            return (V, A)\n",
    "        # select i with wi > 0 and max(vi/wi)\n",
    "        max_vj_wj = 0\n",
    "        for j in range(n):\n",
    "            if wj > 0 and vj/wj > max_vj_wj:\n",
    "                max_vj_wj = vi/wi\n",
    "                i = j\n",
    "        a = min(wi, W)\n",
    "        # update the value V, carried information array A\n",
    "        V += a*vi/wi\n",
    "        wi -= a\n",
    "        A[i] = A[i]+a\n",
    "        W -= a\n",
    "    return (V, A)"
   ]
  },
  {
   "source": [
    "The running time of ```Knapsack``` is $O(n^2)$."
   ],
   "cell_type": "markdown",
   "metadata": {}
  },
  {
   "cell_type": "code",
   "execution_count": null,
   "metadata": {},
   "outputs": [],
   "source": [
    "def Knapsack_optimized(W, w1, v1, ..., wn, vn):\n",
    "    ### Assume that the data is sorted based upon vi/wi.\n",
    "    A = [0 for i in range(len(n))]\n",
    "    V = 0\n",
    "    for i in range(n):\n",
    "        if W == 0:\n",
    "            return (V, A)\n",
    "        ## select i with wi > 0 and max(vi/wi)\n",
    "        a = min(wi, W)\n",
    "        V += a*vi/wi\n",
    "        wi -= a\n",
    "        A[i] = A[i]+a\n",
    "        W -= a\n",
    "    return (V, A)"
   ]
  },
  {
   "source": [
    "Thus, after sorting ```Knapsack_optimized``` is $O(n)$."
   ],
   "cell_type": "markdown",
   "metadata": {}
  }
 ]
}