{
 "cells": [
  {
   "source": [
    "## Knapsack Problem\n",
    "* Goal: maximize value ($) while limiting total weight (kg)\n",
    "* Two types: fractional and discrete, and discrete type can also be divided to with repetitions or without repetitions.\n",
    "\n",
    "\n",
    "## Knapsack with repetitions problem \n",
    "* Input: weight $w_1, \\cdots, w_n$ and values $v_1, \\cdots, v_n$ of $n$ items; total weight $W$\n",
    "* Output: The maximum value of items whose weight does not exceed $W$. Each item can be used any number of times\n",
    "\n",
    "### Subproblems\n",
    "\n",
    "If we take $i$-th item out then we get an optimal solution for a knapsack of total weight $W-w_i$. Let *value{w}* be the maximum value of knapsack of weight *w*.\n",
    "\n",
    "$\n",
    "value(w) = \\max\\limits_{i: w_i\\leq w} \\{value(w-w_i) +v_i \\}\n",
    "$"
   ],
   "cell_type": "markdown",
   "metadata": {}
  },
  {
   "cell_type": "code",
   "execution_count": null,
   "metadata": {},
   "outputs": [],
   "source": [
    "def Knapsack_with_rep(v, w, n, W):\n",
    "    value = [0 for i in range(W + 1)]\n",
    "    for curr_w in range(1, W + 1):\n",
    "        for i in range(1, n + 1):\n",
    "            if w[i] <= curr_w:\n",
    "                val = value[curr_w-w[i]] + v[i]\n",
    "                if val > value[w]:\n",
    "                    value[w] = val\n",
    "    return value[W]"
   ]
  },
  {
   "source": [
    "## Knapsack without repetitions problem\n",
    "* Each item can be used at most once.\n",
    "\n",
    "### subproblems\n",
    "If the $n$-th item is taken into an optimal solution for $W$, then what is left is an optimal solution for a knapsack of total weight $W-w_n$ using items 1, 2, $\\cdots$, $n-1$. If the $n$-th item is not used, then the whole knapsack must be filled in optimally with items 1, 2, $\\cdots$, $n-1$.\n",
    "\n",
    "For $0\\leq w \\leq W$ and $0 \\leq i \\leq n$, $value(w, i)$ is the maximum value achievable using a knapsack of weight $w$ and items $1, \\cdots, i$.\n",
    "\n",
    "The $i$-th item is either used or not: \n",
    "\n",
    "$\n",
    "value(w, i) = \\max \\{value(w-w_i, i-1), value(w, i-1)\\}\n",
    "$"
   ],
   "cell_type": "markdown",
   "metadata": {}
  },
  {
   "cell_type": "code",
   "execution_count": null,
   "metadata": {},
   "outputs": [],
   "source": [
    "def Knapsack_without_rep(v, w, n, W):\n",
    "    value = [[0 for i in range(n+1)] for j in range(W+1)]\n",
    "    \n",
    "    for i in range(1, n+1):\n",
    "        for curr_w in range(1, W+1):\n",
    "            value[curr_w][i] = value[curr_w][i-1]\n",
    "            if w[i] <= curr_w:\n",
    "                val = value[w-w[i]][i-1] + v[i]\n",
    "                if value[curr_w][i] < val:\n",
    "                    value[curr_w][i] = val\n",
    "    \n",
    "    return value[W][n]"
   ]
  },
  {
   "source": [
    "## Memoization\n",
    "\n",
    "solve Knapsack problem in recurrsive manner."
   ],
   "cell_type": "markdown",
   "metadata": {}
  },
  {
   "cell_type": "code",
   "execution_count": null,
   "metadata": {},
   "outputs": [],
   "source": [
    "def Knapsack(v, w, n, W, value={}):\n",
    "    \"\"\"\n",
    "    value: a dict contains the optimal values for weight\n",
    "    \"\"\"\n",
    "    if w in hash table:\n",
    "        return value[w]\n",
    "    value[w] = 0\n",
    "    for i in range(1, n+1):\n",
    "        if w[i] <= W:\n",
    "            val = Knapsack(v, w, n, W-w[i], value) + v[i]\n",
    "            if val > value[w]:\n",
    "                value[w] = val\n",
    "                \n",
    "    return value[w]"
   ]
  },
  {
   "source": [
    "* The running time $O(nW)$ is not polynomial. \n",
    "* Because the input size is proportional to $\\log W$. \n",
    "* In other words, the running time is $O(n2^{\\log W})$"
   ],
   "cell_type": "markdown",
   "metadata": {}
  },
  {
   "source": [
    "## Placing Parentheses\n",
    "\n",
    "* Input: a sequence of digits, $d_1, \\cdots, d_n$ and a sequence of operations $op_1, \\cdots, op_{n-1} \\in \\{+, -, \\times \\}$\n",
    "\n",
    "* Output: an order of applying these operations that maximizes the value of the expression\n",
    "\n",
    "\\begin{equation*}\n",
    "d_1 op_1 d_2 op_2 \\cdots op_{n-1} d_n\n",
    "\\end{equation*}\n",
    "\n",
    "However, we need to keep track of both the minimal and the maximal values of subexpressions.\n",
    "\n",
    "### subproblems\n",
    "Let $E_{i, j}$ be the subexpressions\n",
    "\\begin{equation*}\n",
    "d_i op_i \\cdots op_{j-1} d_j\n",
    "\\end{equation*}\n",
    "subproblems would be:\n",
    "\\begin{equation*}\n",
    "    \\begin{split}\n",
    "        M(i, j) &= \\text{maximum value of } E_{i, j} \\\\\n",
    "        m(i, j) &= \\text{minimum value of } E_{i, j} \\\\\n",
    "        M(i, j) &= \\max\\limits_{i\\leq k\\leq j-1} \\begin{cases}\n",
    "            M(i, k) \\quad op_k \\quad M(k+1, j) \\\\\n",
    "            M(i, k) \\quad op_k \\quad m(k+1, j) \\\\\n",
    "            m(i, k) \\quad op_k \\quad M(k+1, j) \\\\\n",
    "            m(i, k) \\quad op_k \\quad m(k+1, j)\n",
    "        \\end{cases} \\\\\n",
    "        m(i, j) &= \\min\\limits_{i\\leq k\\leq j-1} \\begin{cases}\n",
    "            M(i, k) \\quad op_k \\quad M(k+1, j) \\\\\n",
    "            M(i, k) \\quad op_k \\quad m(k+1, j) \\\\\n",
    "            m(i, k) \\quad op_k \\quad M(k+1, j) \\\\\n",
    "            m(i, k) \\quad op_k \\quad m(k+1, j) \n",
    "        \\end{cases}\n",
    "    \\end{split}\n",
    "\\end{equation*}"
   ],
   "cell_type": "markdown",
   "metadata": {}
  },
  {
   "cell_type": "code",
   "execution_count": null,
   "metadata": {},
   "outputs": [],
   "source": [
    "def MinAndMax(M, m, op, i, j):\n",
    "    min_val = -float(\"inf\")\n",
    "    max_val = float(\"inf\")\n",
    "    for k in range(i, j):\n",
    "        a = M[i][k] op[k] M[k+1][j]\n",
    "        b = M[i][k] op[k] m[k+1][j]\n",
    "        c = m[i][k] op[k] M[k+1][j]\n",
    "        d = m[i][k] op[k] m[k+1][j]\n",
    "        min_val = min(min_val, a, b, c, d)\n",
    "        max_val = max(max_val, a, b, c, d)\n",
    "    return min_val, max_val\n",
    "\n",
    "def Parentheses(d, op, n):\n",
    "    m = [[0 for i in range(n+1)] for j in range(n+1) ]\n",
    "    for i in range(1, n+1):\n",
    "        m[i][i] = d[i]\n",
    "        M[i][i] = d[i]\n",
    "    for s in range(1, n):\n",
    "        for i in range(1, n-s+1):\n",
    "            j = i + s\n",
    "            m[i][j], M[i][j] = MinAndMax(M, m, op, i, j)\n",
    "    return M[1][n]"
   ]
  }
 ],
 "metadata": {
  "language_info": {
   "codemirror_mode": {
    "name": "ipython",
    "version": 3
   },
   "file_extension": ".py",
   "mimetype": "text/x-python",
   "name": "python",
   "nbconvert_exporter": "python",
   "pygments_lexer": "ipython3",
   "version": 3
  },
  "orig_nbformat": 2
 },
 "nbformat": 4,
 "nbformat_minor": 2
}